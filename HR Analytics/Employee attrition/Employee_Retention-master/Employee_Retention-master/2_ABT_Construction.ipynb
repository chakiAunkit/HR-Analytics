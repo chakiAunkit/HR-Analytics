{
 "cells": [
  {
   "cell_type": "markdown",
   "metadata": {},
   "source": [
    "<h1 style=\"font-size:42px; text-align:center; margin-bottom:30px;\"><span style=\"color:SteelBlue\">Module 2\n",
    ":</span> ABT Construction</h1>\n",
    "<hr>\n",
    "Welcome to the workbook for <span style=\"color:royalblue\">Module 2: ABT Construction</span>! \n",
    "\n",
    "In this module, we're going to combine the **Data Cleaning** and **Feature Engineering** steps from Project 2.\n",
    "\n",
    "Remember, **better data beats better algorithms**.\n",
    "\n",
    "\n",
    "<br><hr id=\"toc\">\n",
    "\n",
    "### In this module...\n",
    "\n",
    "In this module, we'll cover the essential steps for building your analytical base table:\n",
    "1. [Drop unwanted observations](#drop)\n",
    "2. [Fix structural errors](#structural)\n",
    "3. [Handle missing data](#missing-data)\n",
    "4. [Engineer features](#engineer-features)\n",
    "5. [Save the ABT](#save-abt)\n",
    "\n",
    "Finally, we'll save the ABT to a new file so we can use it in other modules.\n",
    "\n",
    "<br><hr>"
   ]
  },
  {
   "cell_type": "markdown",
   "metadata": {},
   "source": [
    "### First, let's import libraries and load the dataset.\n",
    "\n",
    "In general, it's good practice to keep all of your library imports at the top of your notebook or program.\n",
    "\n",
    "We've provided comments for guidance."
   ]
  },
  {
   "cell_type": "code",
   "execution_count": 1,
   "metadata": {
    "collapsed": true
   },
   "outputs": [],
   "source": [
    "# print_function for compatibility with Python 3\n",
    "from __future__ import print_function\n",
    "\n",
    "# NumPy for numerical computing\n",
    "import numpy as np\n",
    "\n",
    "# Pandas for DataFrames\n",
    "import pandas as pd\n",
    "pd.set_option('display.max_columns',100)\n",
    "\n",
    "# Matplotlib for visualization\n",
    "import matplotlib.pyplot as plt\n",
    "\n",
    "# display plots in the notebook\n",
    "%matplotlib inline\n",
    "\n",
    "# Seaborn for easier visualization\n",
    "import seaborn as sns"
   ]
  },
  {
   "cell_type": "markdown",
   "metadata": {},
   "source": [
    "Next, let's import the dataset.\n",
    "* The file path is <code style=\"color:crimson\">'project_files/employee_data.csv'</code>"
   ]
  },
  {
   "cell_type": "code",
   "execution_count": 2,
   "metadata": {
    "collapsed": true
   },
   "outputs": [],
   "source": [
    "# Load employee data from CSV\n",
    "df = pd.read_csv('project_files/employee_data.csv')"
   ]
  },
  {
   "cell_type": "markdown",
   "metadata": {},
   "source": [
    "Now we're ready to jump into cleaning the data!"
   ]
  },
  {
   "cell_type": "markdown",
   "metadata": {},
   "source": [
    "<span id=\"drop\"></span>\n",
    "# 1. Drop wanted observations\n",
    "\n",
    "The first step to data cleaning is removing samples from your dataset that you don't want to include in the model.\n",
    "\n",
    "<br>\n",
    "**First, <span style=\"color:royalblue\">drop duplicates</span> from the dataset.**\n",
    "* Then, print the shape of the new dataframe."
   ]
  },
  {
   "cell_type": "code",
   "execution_count": 3,
   "metadata": {},
   "outputs": [
    {
     "data": {
      "text/plain": [
       "(14221, 10)"
      ]
     },
     "execution_count": 3,
     "metadata": {},
     "output_type": "execute_result"
    }
   ],
   "source": [
    "# Drop duplicates\n",
    "df.drop_duplicates(inplace=True)\n",
    "df.shape"
   ]
  },
  {
   "cell_type": "markdown",
   "metadata": {},
   "source": [
    "**Display all of the unique classes of the <code style=\"color:steelblue\">'department'</code> feature**"
   ]
  },
  {
   "cell_type": "code",
   "execution_count": 4,
   "metadata": {},
   "outputs": [
    {
     "data": {
      "text/plain": [
       "array(['engineering', 'support', 'sales', 'IT', 'product', 'marketing',\n",
       "       'temp', 'procurement', 'finance', nan, 'management',\n",
       "       'information_technology', 'admin'], dtype=object)"
      ]
     },
     "execution_count": 4,
     "metadata": {},
     "output_type": "execute_result"
    }
   ],
   "source": [
    "# Unique classes of 'department'\n",
    "df.department.unique()"
   ]
  },
  {
   "cell_type": "markdown",
   "metadata": {},
   "source": [
    "**Drop all observations that belong to the <span style=\"color:crimson\">'temp'</span> department.**\n",
    "* **Hint:** This is the same as keeping all that don't belong to that department.\n",
    "* **Hint:** Remember to overwrite your original dataframe.\n",
    "* Then, print the shape of the new dataframe."
   ]
  },
  {
   "cell_type": "code",
   "execution_count": 5,
   "metadata": {
    "scrolled": true
   },
   "outputs": [
    {
     "data": {
      "text/plain": [
       "(14068, 10)"
      ]
     },
     "execution_count": 5,
     "metadata": {},
     "output_type": "execute_result"
    }
   ],
   "source": [
    "# Drop temporary workers\n",
    "df = df[df['department'] != 'temp']\n",
    "df.shape"
   ]
  },
  {
   "cell_type": "markdown",
   "metadata": {},
   "source": [
    "<p style=\"text-align:center; margin: 40px 0 40px 0; font-weight:bold\">\n",
    "<a href=\"#toc\">Back to Contents</a>\n",
    "</p>"
   ]
  },
  {
   "cell_type": "markdown",
   "metadata": {},
   "source": [
    "<span id=\"structural\"></span>\n",
    "# 2. Fix structural errors\n",
    "\n",
    "The next bucket under data cleaning involves fixing structural errors, which arise during measurement, data transfer, or other types of \"poor housekeeping.\"\n",
    "\n",
    "<br>\n",
    "**Print the unique values of <code style=\"color:steelblue\">'filed_complaint'</code> and <code style=\"color:steelblue\">'recently_promoted'</code>.**"
   ]
  },
  {
   "cell_type": "code",
   "execution_count": 6,
   "metadata": {},
   "outputs": [
    {
     "name": "stdout",
     "output_type": "stream",
     "text": [
      "[ nan   1.]\n",
      "[ nan   1.]\n"
     ]
    }
   ],
   "source": [
    "# Print unique values of 'filed_complaint'\n",
    "print(df['filed_complaint'].unique())\n",
    "\n",
    "# Print unique values of 'recently_promoted'\n",
    "print(df['recently_promoted'].unique())"
   ]
  },
  {
   "cell_type": "markdown",
   "metadata": {},
   "source": [
    "**Fill missing <code style=\"color:steelblue\">'filed_complaint'</code> and <code style=\"color:steelblue\">'recently_promoted'</code> values with <code style=\"color:crimson\">0</code>.**"
   ]
  },
  {
   "cell_type": "code",
   "execution_count": 7,
   "metadata": {
    "collapsed": true
   },
   "outputs": [],
   "source": [
    "# Missing filed_complaint values should be 0\n",
    "df['filed_complaint'].replace(np.nan, 0, inplace=True)\n",
    "\n",
    "# Missing recently_promoted values should be 0\n",
    "df['recently_promoted'].replace(np.nan, 0, inplace= True)"
   ]
  },
  {
   "cell_type": "markdown",
   "metadata": {},
   "source": [
    "**Print the unique values of <code style=\"color:steelblue\">'filed_complaint'</code> and <code style=\"color:steelblue\">'recently_promoted'</code> again, just to confirm.**"
   ]
  },
  {
   "cell_type": "code",
   "execution_count": 36,
   "metadata": {},
   "outputs": [
    {
     "name": "stdout",
     "output_type": "stream",
     "text": [
      "[ 0.  1.]\n",
      "[ 0.  1.]\n"
     ]
    }
   ],
   "source": [
    "# Print unique values of 'filed_complaint'\n",
    "print(df['filed_complaint'].unique())\n",
    "\n",
    "# Print unique values of 'recently_promoted'\n",
    "print(df['recently_promoted'].unique())"
   ]
  },
  {
   "cell_type": "markdown",
   "metadata": {},
   "source": [
    "**Replace any instances of <code style=\"color:crimson\">'information_technology'</code> with <code style=\"color:crimson\">'IT'</code> instead.**\n",
    "* Remember to do it **inplace**.\n",
    "* Then, plot the **bar chart** for <code style=\"color:steelblue\">'department'</code> to see its new distribution."
   ]
  },
  {
   "cell_type": "code",
   "execution_count": 8,
   "metadata": {},
   "outputs": [
    {
     "data": {
      "image/png": "[encoded data removed]",
      "text/plain": [
       "<matplotlib.figure.Figure at 0x7f00a51c3990>"
      ]
     },
     "metadata": {},
     "output_type": "display_data"
    }
   ],
   "source": [
    "# 'information_technology' should be 'IT'\n",
    "df['department'].replace('information_technology', 'IT', inplace=True)\n",
    "\n",
    "# Plot class distributions for 'department'\n",
    "plt.figure(figsize=(8,8))\n",
    "sns.countplot(y='department', data=df)\n",
    "plt.show()"
   ]
  },
  {
   "cell_type": "markdown",
   "metadata": {},
   "source": [
    "<p style=\"text-align:center; margin: 40px 0 40px 0; font-weight:bold\">\n",
    "<a href=\"#toc\">Back to Contents</a>\n",
    "</p>"
   ]
  },
  {
   "cell_type": "markdown",
   "metadata": {},
   "source": [
    "<span id=\"missing-data\"></span>\n",
    "# 3. Handle missing data\n",
    "\n",
    "Next, it's time to handle **missing data**. \n",
    "\n",
    "<br>\n",
    "**Display the <span style=\"color:royalblue\">number of missing values</span> for each feature (both categorical and numeric).**"
   ]
  },
  {
   "cell_type": "code",
   "execution_count": 9,
   "metadata": {},
   "outputs": [
    {
     "data": {
      "text/plain": [
       "avg_monthly_hrs         0\n",
       "department            709\n",
       "filed_complaint         0\n",
       "last_evaluation      1351\n",
       "n_projects              0\n",
       "recently_promoted       0\n",
       "salary                  0\n",
       "satisfaction            0\n",
       "status                  0\n",
       "tenure                  0\n",
       "dtype: int64"
      ]
     },
     "execution_count": 9,
     "metadata": {},
     "output_type": "execute_result"
    }
   ],
   "source": [
    "# Display number of missing values by feature\n",
    "df.isnull().sum()"
   ]
  },
  {
   "cell_type": "markdown",
   "metadata": {},
   "source": [
    "**Label missing values in <code style=\"color:steelblue\">'department'</code> as <code style=\"color:crimson\">'Missing'</code>.**\n",
    "* By the way, the <code style=\"color:steelblue\">.fillna()</code> function also has an <code style=\"color:steelblue\">inplace=</code> argument, just like the <code style=\"color:steelblue\">.replace()</code> function.\n",
    "* In the previous project, we just overwrote that column. This time, try using the <code style=\"color:steelblue\">inplace=</code> argument instead."
   ]
  },
  {
   "cell_type": "code",
   "execution_count": 10,
   "metadata": {
    "collapsed": true
   },
   "outputs": [],
   "source": [
    "# Fill missing values in department with 'Missing'\n",
    "df['department'].fillna('Missing',inplace=True)"
   ]
  },
  {
   "cell_type": "markdown",
   "metadata": {},
   "source": [
    "**First, let's flag <code style=\"color:steelblue\">'last_evaluation'</code> with an indicator variable of missingness.** \n",
    "* <code style=\"color:crimson\">0</code> if not missing.\n",
    "* <code style=\"color:crimson\">1</code> if missing. \n",
    "\n",
    "Let's name the new indicator variable <code style=\"color:steelblue\">'last_evaluation_missing'</code>.\n",
    "* We can use the <code style=\"color:steelblue\">.isnull()</code> function.\n",
    "* Also, remember to convert it with <code style=\"color:steelblue\">.astype(int)</code>"
   ]
  },
  {
   "cell_type": "code",
   "execution_count": 11,
   "metadata": {
    "collapsed": true
   },
   "outputs": [],
   "source": [
    "# Indicator variable for missing last_evaluation\n",
    "df['last_evaluation_missing'] = df['last_evaluation'].isnull().astype(int)"
   ]
  },
  {
   "cell_type": "markdown",
   "metadata": {},
   "source": [
    "**Then, simply fill in the original missing value with <code style=\"color:crimson\">0</code> just so your algorithms can run properly.**"
   ]
  },
  {
   "cell_type": "code",
   "execution_count": 12,
   "metadata": {
    "collapsed": true
   },
   "outputs": [],
   "source": [
    "# Fill missing values in last_evaluation with 0\n",
    "df['last_evaluation'].fillna(0, inplace=True)"
   ]
  },
  {
   "cell_type": "markdown",
   "metadata": {},
   "source": [
    "**Display the number of missing values for each feature (both categorical and numeric) again, just to confirm.**"
   ]
  },
  {
   "cell_type": "code",
   "execution_count": 13,
   "metadata": {},
   "outputs": [
    {
     "data": {
      "text/plain": [
       "avg_monthly_hrs            0\n",
       "department                 0\n",
       "filed_complaint            0\n",
       "last_evaluation            0\n",
       "n_projects                 0\n",
       "recently_promoted          0\n",
       "salary                     0\n",
       "satisfaction               0\n",
       "status                     0\n",
       "tenure                     0\n",
       "last_evaluation_missing    0\n",
       "dtype: int64"
      ]
     },
     "execution_count": 13,
     "metadata": {},
     "output_type": "execute_result"
    }
   ],
   "source": [
    "# Display number of missing values by feature\n",
    "df.isnull().sum()"
   ]
  },
  {
   "cell_type": "markdown",
   "metadata": {},
   "source": [
    "<p style=\"text-align:center; margin: 40px 0 40px 0; font-weight:bold\">\n",
    "<a href=\"#toc\">Back to Contents</a>\n",
    "</p>"
   ]
  },
  {
   "cell_type": "markdown",
   "metadata": {},
   "source": [
    "<span id=\"engineer-features\"></span>\n",
    "# 4. Engineer features\n",
    "\n",
    "For this project, we're going to have an abbreviated version of feature engineering, since we've already covered many tactics in Project 2.\n",
    "\n",
    "<br>\n",
    "Do you remember the scatterplot of <code style=\"color:steelblue\">'satisfaction'</code> and <code style=\"color:steelblue\">'last_evaluation'</code> for employees who have <code style=\"color:crimson\">'Left'</code>?\n",
    "\n",
    "**Let's reproduce it here, just so we have it in front of us.**"
   ]
  },
  {
   "cell_type": "code",
   "execution_count": 14,
   "metadata": {},
   "outputs": [
    {
     "data": {
      "image/png": "[encoded data removed]",
      "text/plain": [
       "<matplotlib.figure.Figure at 0x7f00a191fb50>"
      ]
     },
     "metadata": {},
     "output_type": "display_data"
    }
   ],
   "source": [
    "# Scatterplot of satisfaction vs. last_evaluation, only those who have left\n",
    "sns.lmplot(x='satisfaction', y= 'last_evaluation', fit_reg=False,\n",
    "           data = df.loc[df['status']=='Left'])\n",
    "plt.show()"
   ]
  },
  {
   "cell_type": "markdown",
   "metadata": {},
   "source": [
    "These roughly translate to 3 **indicator features** we can engineer:\n",
    "\n",
    "* <code style=\"color:steelblue\">'underperformer'</code> - last_evaluation < 0.6 and last_evaluation_missing == 0\n",
    "* <code style=\"color:steelblue\">'unhappy'</code> - satisfaction_level < 0.2\n",
    "* <code style=\"color:steelblue\">'overachiever'</code> - last_evaluation > 0.8 and satisfaction > 0.7\n",
    "\n",
    "<br>\n",
    "**Create those 3 indicator features.**\n",
    "* Use boolean masks.\n",
    "* **Important:** For <code style=\"color:steelblue\">'underperformer'</code>, it's important to include <code style=\"color:steelblue\">'last_evaluation_missing' == 0</code> to avoid those originally missing observations that we flagged and filled."
   ]
  },
  {
   "cell_type": "code",
   "execution_count": 15,
   "metadata": {
    "collapsed": true
   },
   "outputs": [],
   "source": [
    "# Create indicator features\n",
    "df['underperformer'] = \\\n",
    "((df['last_evaluation'] < 0.6) & (df['last_evaluation_missing'] == 0)).astype(int)\n",
    "\n",
    "df['unhappy'] = (df['satisfaction'] < 0.2).astype(int)\n",
    "\n",
    "df['overachiever'] = \\\n",
    "((df['last_evaluation'] > 0.8) & (df['satisfaction'] > 0.7)).astype(int)"
   ]
  },
  {
   "cell_type": "markdown",
   "metadata": {},
   "source": [
    "<br>\n",
    "**Next, run this code to check that you created the features correctly.**"
   ]
  },
  {
   "cell_type": "code",
   "execution_count": 16,
   "metadata": {},
   "outputs": [
    {
     "data": {
      "text/plain": [
       "underperformer    0.285257\n",
       "unhappy           0.092195\n",
       "overachiever      0.177069\n",
       "dtype: float64"
      ]
     },
     "execution_count": 16,
     "metadata": {},
     "output_type": "execute_result"
    }
   ],
   "source": [
    "# The proportion of observations belonging to each group\n",
    "df[['underperformer', 'unhappy', 'overachiever']].mean()"
   ]
  },
  {
   "cell_type": "markdown",
   "metadata": {},
   "source": [
    "<p style=\"text-align:center; margin: 40px 0 40px 0; font-weight:bold\">\n",
    "<a href=\"#toc\">Back to Contents</a>\n",
    "</p>"
   ]
  },
  {
   "cell_type": "markdown",
   "metadata": {},
   "source": [
    "<span id=\"save-abt\"></span>\n",
    "# 5. Save the ABT\n",
    "\n",
    "Finally, let's save the **analytical base table**. \n",
    "\n",
    "<br>\n",
    "**Convert <code style=\"color:steelblue\">'status'</code> into an indicator variable.**\n",
    "* <code style=\"color:crimson\">'Left'</code> should be <code style=\"color:crimson\">1</code>\n",
    "* <code style=\"color:crimson\">'Employed'</code> should be <code style=\"color:crimson\">0</code>\n",
    "* There's also a really easy way you can use <code style=\"color:steelblue\">pd.get_dummies()</code> here. See below."
   ]
  },
  {
   "cell_type": "code",
   "execution_count": 17,
   "metadata": {
    "collapsed": true
   },
   "outputs": [],
   "source": [
    "# Convert status to an indicator variable\n",
    "df['status'] = pd.get_dummies( df.status ).Left"
   ]
  },
  {
   "cell_type": "markdown",
   "metadata": {},
   "source": [
    "**To confirm we did that correctly, display the proportion of people in our dataset who left.**"
   ]
  },
  {
   "cell_type": "code",
   "execution_count": 18,
   "metadata": {},
   "outputs": [
    {
     "data": {
      "text/plain": [
       "0.23933750355416547"
      ]
     },
     "execution_count": 18,
     "metadata": {},
     "output_type": "execute_result"
    }
   ],
   "source": [
    "# The proportion of observations who 'Left'\n",
    "df.status.mean()"
   ]
  },
  {
   "cell_type": "markdown",
   "metadata": {},
   "source": [
    "**Overwrite your dataframe with a version that has <span style=\"color:royalblue\">dummy variables</span> for the categorical features.**\n",
    "* Then, display the first 10 rows to confirm all of the changes we've made so far in this module."
   ]
  },
  {
   "cell_type": "code",
   "execution_count": 19,
   "metadata": {},
   "outputs": [
    {
     "data": {
      "text/html": [
       "<div>\n",
       "<style>\n",
       "    .dataframe thead tr:only-child th {\n",
       "        text-align: right;\n",
       "    }\n",
       "\n",
       "    .dataframe thead th {\n",
       "        text-align: left;\n",
       "    }\n",
       "\n",
       "    .dataframe tbody tr th {\n",
       "        vertical-align: top;\n",
       "    }\n",
       "</style>\n",
       "<table border=\"1\" class=\"dataframe\">\n",
       "  <thead>\n",
       "    <tr style=\"text-align: right;\">\n",
       "      <th></th>\n",
       "      <th>avg_monthly_hrs</th>\n",
       "      <th>filed_complaint</th>\n",
       "      <th>last_evaluation</th>\n",
       "      <th>n_projects</th>\n",
       "      <th>recently_promoted</th>\n",
       "      <th>satisfaction</th>\n",
       "      <th>status</th>\n",
       "      <th>tenure</th>\n",
       "      <th>last_evaluation_missing</th>\n",
       "      <th>underperformer</th>\n",
       "      <th>unhappy</th>\n",
       "      <th>overachiever</th>\n",
       "      <th>department_IT</th>\n",
       "      <th>department_Missing</th>\n",
       "      <th>department_admin</th>\n",
       "      <th>department_engineering</th>\n",
       "      <th>department_finance</th>\n",
       "      <th>department_management</th>\n",
       "      <th>department_marketing</th>\n",
       "      <th>department_procurement</th>\n",
       "      <th>department_product</th>\n",
       "      <th>department_sales</th>\n",
       "      <th>department_support</th>\n",
       "      <th>salary_high</th>\n",
       "      <th>salary_low</th>\n",
       "      <th>salary_medium</th>\n",
       "    </tr>\n",
       "  </thead>\n",
       "  <tbody>\n",
       "    <tr>\n",
       "      <th>0</th>\n",
       "      <td>221</td>\n",
       "      <td>0.0</td>\n",
       "      <td>0.932868</td>\n",
       "      <td>4</td>\n",
       "      <td>0.0</td>\n",
       "      <td>0.829896</td>\n",
       "      <td>1</td>\n",
       "      <td>5.0</td>\n",
       "      <td>0</td>\n",
       "      <td>0</td>\n",
       "      <td>0</td>\n",
       "      <td>1</td>\n",
       "      <td>0</td>\n",
       "      <td>0</td>\n",
       "      <td>0</td>\n",
       "      <td>1</td>\n",
       "      <td>0</td>\n",
       "      <td>0</td>\n",
       "      <td>0</td>\n",
       "      <td>0</td>\n",
       "      <td>0</td>\n",
       "      <td>0</td>\n",
       "      <td>0</td>\n",
       "      <td>0</td>\n",
       "      <td>1</td>\n",
       "      <td>0</td>\n",
       "    </tr>\n",
       "    <tr>\n",
       "      <th>1</th>\n",
       "      <td>232</td>\n",
       "      <td>0.0</td>\n",
       "      <td>0.000000</td>\n",
       "      <td>3</td>\n",
       "      <td>0.0</td>\n",
       "      <td>0.834544</td>\n",
       "      <td>0</td>\n",
       "      <td>2.0</td>\n",
       "      <td>1</td>\n",
       "      <td>0</td>\n",
       "      <td>0</td>\n",
       "      <td>0</td>\n",
       "      <td>0</td>\n",
       "      <td>0</td>\n",
       "      <td>0</td>\n",
       "      <td>0</td>\n",
       "      <td>0</td>\n",
       "      <td>0</td>\n",
       "      <td>0</td>\n",
       "      <td>0</td>\n",
       "      <td>0</td>\n",
       "      <td>0</td>\n",
       "      <td>1</td>\n",
       "      <td>0</td>\n",
       "      <td>1</td>\n",
       "      <td>0</td>\n",
       "    </tr>\n",
       "    <tr>\n",
       "      <th>2</th>\n",
       "      <td>184</td>\n",
       "      <td>0.0</td>\n",
       "      <td>0.788830</td>\n",
       "      <td>3</td>\n",
       "      <td>0.0</td>\n",
       "      <td>0.834988</td>\n",
       "      <td>0</td>\n",
       "      <td>3.0</td>\n",
       "      <td>0</td>\n",
       "      <td>0</td>\n",
       "      <td>0</td>\n",
       "      <td>0</td>\n",
       "      <td>0</td>\n",
       "      <td>0</td>\n",
       "      <td>0</td>\n",
       "      <td>0</td>\n",
       "      <td>0</td>\n",
       "      <td>0</td>\n",
       "      <td>0</td>\n",
       "      <td>0</td>\n",
       "      <td>0</td>\n",
       "      <td>1</td>\n",
       "      <td>0</td>\n",
       "      <td>0</td>\n",
       "      <td>0</td>\n",
       "      <td>1</td>\n",
       "    </tr>\n",
       "    <tr>\n",
       "      <th>3</th>\n",
       "      <td>206</td>\n",
       "      <td>0.0</td>\n",
       "      <td>0.575688</td>\n",
       "      <td>4</td>\n",
       "      <td>0.0</td>\n",
       "      <td>0.424764</td>\n",
       "      <td>0</td>\n",
       "      <td>2.0</td>\n",
       "      <td>0</td>\n",
       "      <td>1</td>\n",
       "      <td>0</td>\n",
       "      <td>0</td>\n",
       "      <td>0</td>\n",
       "      <td>0</td>\n",
       "      <td>0</td>\n",
       "      <td>0</td>\n",
       "      <td>0</td>\n",
       "      <td>0</td>\n",
       "      <td>0</td>\n",
       "      <td>0</td>\n",
       "      <td>0</td>\n",
       "      <td>1</td>\n",
       "      <td>0</td>\n",
       "      <td>0</td>\n",
       "      <td>1</td>\n",
       "      <td>0</td>\n",
       "    </tr>\n",
       "    <tr>\n",
       "      <th>4</th>\n",
       "      <td>249</td>\n",
       "      <td>0.0</td>\n",
       "      <td>0.845217</td>\n",
       "      <td>3</td>\n",
       "      <td>0.0</td>\n",
       "      <td>0.779043</td>\n",
       "      <td>0</td>\n",
       "      <td>3.0</td>\n",
       "      <td>0</td>\n",
       "      <td>0</td>\n",
       "      <td>0</td>\n",
       "      <td>1</td>\n",
       "      <td>0</td>\n",
       "      <td>0</td>\n",
       "      <td>0</td>\n",
       "      <td>0</td>\n",
       "      <td>0</td>\n",
       "      <td>0</td>\n",
       "      <td>0</td>\n",
       "      <td>0</td>\n",
       "      <td>0</td>\n",
       "      <td>1</td>\n",
       "      <td>0</td>\n",
       "      <td>0</td>\n",
       "      <td>1</td>\n",
       "      <td>0</td>\n",
       "    </tr>\n",
       "    <tr>\n",
       "      <th>5</th>\n",
       "      <td>140</td>\n",
       "      <td>0.0</td>\n",
       "      <td>0.589097</td>\n",
       "      <td>4</td>\n",
       "      <td>0.0</td>\n",
       "      <td>0.660020</td>\n",
       "      <td>0</td>\n",
       "      <td>4.0</td>\n",
       "      <td>0</td>\n",
       "      <td>1</td>\n",
       "      <td>0</td>\n",
       "      <td>0</td>\n",
       "      <td>0</td>\n",
       "      <td>0</td>\n",
       "      <td>0</td>\n",
       "      <td>0</td>\n",
       "      <td>0</td>\n",
       "      <td>0</td>\n",
       "      <td>0</td>\n",
       "      <td>0</td>\n",
       "      <td>0</td>\n",
       "      <td>1</td>\n",
       "      <td>0</td>\n",
       "      <td>0</td>\n",
       "      <td>0</td>\n",
       "      <td>1</td>\n",
       "    </tr>\n",
       "    <tr>\n",
       "      <th>6</th>\n",
       "      <td>121</td>\n",
       "      <td>1.0</td>\n",
       "      <td>0.625399</td>\n",
       "      <td>3</td>\n",
       "      <td>0.0</td>\n",
       "      <td>0.835571</td>\n",
       "      <td>0</td>\n",
       "      <td>3.0</td>\n",
       "      <td>0</td>\n",
       "      <td>0</td>\n",
       "      <td>0</td>\n",
       "      <td>0</td>\n",
       "      <td>0</td>\n",
       "      <td>0</td>\n",
       "      <td>0</td>\n",
       "      <td>0</td>\n",
       "      <td>0</td>\n",
       "      <td>0</td>\n",
       "      <td>0</td>\n",
       "      <td>0</td>\n",
       "      <td>0</td>\n",
       "      <td>1</td>\n",
       "      <td>0</td>\n",
       "      <td>0</td>\n",
       "      <td>1</td>\n",
       "      <td>0</td>\n",
       "    </tr>\n",
       "    <tr>\n",
       "      <th>7</th>\n",
       "      <td>150</td>\n",
       "      <td>0.0</td>\n",
       "      <td>0.644586</td>\n",
       "      <td>4</td>\n",
       "      <td>0.0</td>\n",
       "      <td>0.796683</td>\n",
       "      <td>0</td>\n",
       "      <td>3.0</td>\n",
       "      <td>0</td>\n",
       "      <td>0</td>\n",
       "      <td>0</td>\n",
       "      <td>0</td>\n",
       "      <td>0</td>\n",
       "      <td>0</td>\n",
       "      <td>0</td>\n",
       "      <td>1</td>\n",
       "      <td>0</td>\n",
       "      <td>0</td>\n",
       "      <td>0</td>\n",
       "      <td>0</td>\n",
       "      <td>0</td>\n",
       "      <td>0</td>\n",
       "      <td>0</td>\n",
       "      <td>0</td>\n",
       "      <td>1</td>\n",
       "      <td>0</td>\n",
       "    </tr>\n",
       "    <tr>\n",
       "      <th>8</th>\n",
       "      <td>215</td>\n",
       "      <td>1.0</td>\n",
       "      <td>0.524114</td>\n",
       "      <td>3</td>\n",
       "      <td>0.0</td>\n",
       "      <td>0.715005</td>\n",
       "      <td>0</td>\n",
       "      <td>7.0</td>\n",
       "      <td>0</td>\n",
       "      <td>1</td>\n",
       "      <td>0</td>\n",
       "      <td>0</td>\n",
       "      <td>0</td>\n",
       "      <td>0</td>\n",
       "      <td>0</td>\n",
       "      <td>1</td>\n",
       "      <td>0</td>\n",
       "      <td>0</td>\n",
       "      <td>0</td>\n",
       "      <td>0</td>\n",
       "      <td>0</td>\n",
       "      <td>0</td>\n",
       "      <td>0</td>\n",
       "      <td>0</td>\n",
       "      <td>0</td>\n",
       "      <td>1</td>\n",
       "    </tr>\n",
       "    <tr>\n",
       "      <th>9</th>\n",
       "      <td>269</td>\n",
       "      <td>0.0</td>\n",
       "      <td>0.909364</td>\n",
       "      <td>5</td>\n",
       "      <td>0.0</td>\n",
       "      <td>0.994037</td>\n",
       "      <td>0</td>\n",
       "      <td>2.0</td>\n",
       "      <td>0</td>\n",
       "      <td>0</td>\n",
       "      <td>0</td>\n",
       "      <td>1</td>\n",
       "      <td>0</td>\n",
       "      <td>0</td>\n",
       "      <td>0</td>\n",
       "      <td>0</td>\n",
       "      <td>0</td>\n",
       "      <td>0</td>\n",
       "      <td>0</td>\n",
       "      <td>0</td>\n",
       "      <td>0</td>\n",
       "      <td>0</td>\n",
       "      <td>1</td>\n",
       "      <td>0</td>\n",
       "      <td>0</td>\n",
       "      <td>1</td>\n",
       "    </tr>\n",
       "  </tbody>\n",
       "</table>\n",
       "</div>"
      ],
      "text/plain": [
       "   avg_monthly_hrs  filed_complaint  last_evaluation  n_projects  \\\n",
       "0              221              0.0         0.932868           4   \n",
       "1              232              0.0         0.000000           3   \n",
       "2              184              0.0         0.788830           3   \n",
       "3              206              0.0         0.575688           4   \n",
       "4              249              0.0         0.845217           3   \n",
       "5              140              0.0         0.589097           4   \n",
       "6              121              1.0         0.625399           3   \n",
       "7              150              0.0         0.644586           4   \n",
       "8              215              1.0         0.524114           3   \n",
       "9              269              0.0         0.909364           5   \n",
       "\n",
       "   recently_promoted  satisfaction  status  tenure  last_evaluation_missing  \\\n",
       "0                0.0      0.829896       1     5.0                        0   \n",
       "1                0.0      0.834544       0     2.0                        1   \n",
       "2                0.0      0.834988       0     3.0                        0   \n",
       "3                0.0      0.424764       0     2.0                        0   \n",
       "4                0.0      0.779043       0     3.0                        0   \n",
       "5                0.0      0.660020       0     4.0                        0   \n",
       "6                0.0      0.835571       0     3.0                        0   \n",
       "7                0.0      0.796683       0     3.0                        0   \n",
       "8                0.0      0.715005       0     7.0                        0   \n",
       "9                0.0      0.994037       0     2.0                        0   \n",
       "\n",
       "   underperformer  unhappy  overachiever  department_IT  department_Missing  \\\n",
       "0               0        0             1              0                   0   \n",
       "1               0        0             0              0                   0   \n",
       "2               0        0             0              0                   0   \n",
       "3               1        0             0              0                   0   \n",
       "4               0        0             1              0                   0   \n",
       "5               1        0             0              0                   0   \n",
       "6               0        0             0              0                   0   \n",
       "7               0        0             0              0                   0   \n",
       "8               1        0             0              0                   0   \n",
       "9               0        0             1              0                   0   \n",
       "\n",
       "   department_admin  department_engineering  department_finance  \\\n",
       "0                 0                       1                   0   \n",
       "1                 0                       0                   0   \n",
       "2                 0                       0                   0   \n",
       "3                 0                       0                   0   \n",
       "4                 0                       0                   0   \n",
       "5                 0                       0                   0   \n",
       "6                 0                       0                   0   \n",
       "7                 0                       1                   0   \n",
       "8                 0                       1                   0   \n",
       "9                 0                       0                   0   \n",
       "\n",
       "   department_management  department_marketing  department_procurement  \\\n",
       "0                      0                     0                       0   \n",
       "1                      0                     0                       0   \n",
       "2                      0                     0                       0   \n",
       "3                      0                     0                       0   \n",
       "4                      0                     0                       0   \n",
       "5                      0                     0                       0   \n",
       "6                      0                     0                       0   \n",
       "7                      0                     0                       0   \n",
       "8                      0                     0                       0   \n",
       "9                      0                     0                       0   \n",
       "\n",
       "   department_product  department_sales  department_support  salary_high  \\\n",
       "0                   0                 0                   0            0   \n",
       "1                   0                 0                   1            0   \n",
       "2                   0                 1                   0            0   \n",
       "3                   0                 1                   0            0   \n",
       "4                   0                 1                   0            0   \n",
       "5                   0                 1                   0            0   \n",
       "6                   0                 1                   0            0   \n",
       "7                   0                 0                   0            0   \n",
       "8                   0                 0                   0            0   \n",
       "9                   0                 0                   1            0   \n",
       "\n",
       "   salary_low  salary_medium  \n",
       "0           1              0  \n",
       "1           1              0  \n",
       "2           0              1  \n",
       "3           1              0  \n",
       "4           1              0  \n",
       "5           0              1  \n",
       "6           1              0  \n",
       "7           1              0  \n",
       "8           0              1  \n",
       "9           0              1  "
      ]
     },
     "execution_count": 19,
     "metadata": {},
     "output_type": "execute_result"
    }
   ],
   "source": [
    "# Create new dataframe with dummy features\n",
    "categorical_feats = df.select_dtypes(include=['object']).columns.tolist()\n",
    "df = pd.get_dummies(df, columns= categorical_feats)\n",
    "\n",
    "# Display first 10 rows\n",
    "df.head(10)"
   ]
  },
  {
   "cell_type": "markdown",
   "metadata": {},
   "source": [
    "**Save this dataframe as your <span style=\"color:royalblue\">analytical base table</span> to use in later modules.**\n",
    "* Remember to set the argument <code style=\"color:steelblue\">index=None</code> to save only the data."
   ]
  },
  {
   "cell_type": "code",
   "execution_count": 20,
   "metadata": {
    "collapsed": true
   },
   "outputs": [],
   "source": [
    "# Save analytical base table\n",
    "df.to_csv('analytical_base_table.csv', index= None)"
   ]
  },
  {
   "cell_type": "markdown",
   "metadata": {},
   "source": [
    "<p style=\"text-align:center; margin: 40px 0 40px 0; font-weight:bold\">\n",
    "<a href=\"#toc\">Back to Contents</a>\n",
    "</p>"
   ]
  },
  {
   "cell_type": "markdown",
   "metadata": {},
   "source": [
    "<br>\n",
    "## Next Steps\n",
    "\n",
    "Congratulations for making through Project 3's ABT Construction module!\n",
    "\n",
    "As a reminder, here are a few things you did in this module:\n",
    "* You cleaned dropped irrelevant observations from the dataset.\n",
    "* You fixed various structural errors, such as wannabe indicator variables.\n",
    "* You handled missing data.\n",
    "* You engineered features by leveraging your exploratory analysis.\n",
    "* And you created dummy variables before saving the ABT.\n",
    "\n",
    "In the next module, <span style=\"color:royalblue\">Module 3: Classification Algorithms</span>, we'll take a detour from the project and dive into some more machine learning concepts. We'll also introduce the classification algorithms we'll be using for this project.\n",
    "\n",
    "<p style=\"text-align:center; margin: 40px 0 40px 0; font-weight:bold\">\n",
    "<a href=\"#toc\">Back to Contents</a>\n",
    "</p>"
   ]
  }
 ],
 "metadata": {
  "anaconda-cloud": {},
  "kernelspec": {
   "display_name": "Python 3",
   "language": "python",
   "name": "python3"
  },
  "language_info": {
   "codemirror_mode": {
    "name": "ipython",
    "version": 3
   },
   "file_extension": ".py",
   "mimetype": "text/x-python",
   "name": "python",
   "nbconvert_exporter": "python",
   "pygments_lexer": "ipython3",
   "version": "3.7.3"
  }
 },
 "nbformat": 4,
 "nbformat_minor": 1
}
